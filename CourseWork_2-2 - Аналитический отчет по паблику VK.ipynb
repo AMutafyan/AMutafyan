{
 "cells": [
  {
   "cell_type": "markdown",
   "metadata": {
    "id": "Fd3_VqqaHVAN"
   },
   "source": [
    "# Курсовая работа № 2\n",
    "## Аналитика. Начальный уровень"
   ]
  },
  {
   "cell_type": "markdown",
   "metadata": {
    "id": "5OXer84FHVAU"
   },
   "source": [
    "## Часть вторая"
   ]
  },
  {
   "cell_type": "markdown",
   "metadata": {
    "id": "8vS_kLIvHVAV"
   },
   "source": [
    "Перед вами стоит задача – подготовить аналитический ответ для SMM-отдела компании Skillbox. <br> Объектом анализа является  [паблик Skillbox Вконтакте](https://vk.com/skillbox_education). <br> <br> \n",
    "Подключитесь к  API VK и выгрузите посты со стены паблика Skillbox за интересующий период (определите самостоятельно и обоснуйте). Проанализируйте влияние различных факторов (например, времени публикации) на вовлеченность пользователей (количество лайков, комментариев, голосов в опросах). Сделайте аналитику по рубрикам (примеры рубрик: дизайн-битва, игра по управлению), которые есть в паблике. Выбрать нужные посты можно с помощью регулярных выражений. Составьте перечень рекомандаций для SMM-отдела по итогам анализа. <br> <br> \n",
    "\n",
    "Дополнительные инструкции по работе с API VK расположены [здесь](https://colab.research.google.com/drive/1rRaTay-OSPLAOX8V9UaFvTiAciVtp2s3)."
   ]
  },
  {
   "cell_type": "code",
   "execution_count": 1,
   "metadata": {
    "id": "7SzjqiQLHVAW"
   },
   "outputs": [],
   "source": [
    "from datetime import datetime, timedelta\n",
    "import matplotlib.pyplot as plt\n",
    "import pandas as pd\n",
    "import requests\n",
    "import numpy as np"
   ]
  },
  {
   "cell_type": "code",
   "execution_count": null,
   "metadata": {
    "id": "smZXTowaTeAw",
    "outputId": "685d2aea-808c-4ba4-ab78-2aec903c2c74"
   },
   "outputs": [],
   "source": [
    "# Подключаемся к паблику Skillbox Вконтакте\n",
    "\n",
    "# https://oauth.vk.com/authorize?client_id=XXX&display=page&redirect_uri=http://oauth.vk.com/blank.html&scope=all&response_type=token\n",
    "\n",
    "vk_token = 'YYY'\n",
    "url = 'https://api.vk.com/method/account.getProfileInfo?access_token=' + str(vk_token) + '&v=5.92'\n",
    "response = requests.get(url).json()\n",
    "print(response)"
   ]
  },
  {
   "cell_type": "code",
   "execution_count": null,
   "metadata": {
    "id": "ftBA5PRZTeAy",
    "outputId": "95f7d99e-bba7-4e47-a9b7-f7a31d356225"
   },
   "outputs": [],
   "source": [
    "# получаем последнюю запись из паблика Skillbox Вконтакте\n",
    "url = 'https://api.vk.com/method/wall.get?access_token=' + str(vk_token) + '&owner_id=-66669811&count=1&v=5.92'\n",
    "response = requests.get(url).json()\n",
    "response"
   ]
  },
  {
   "cell_type": "code",
   "execution_count": 4,
   "metadata": {
    "id": "gIB81hzYTeAy",
    "outputId": "6ccbe159-1386-49d0-ff19-09beb63296b8"
   },
   "outputs": [
    {
     "data": {
      "text/plain": [
       "dict_keys(['count', 'items'])"
      ]
     },
     "execution_count": 4,
     "metadata": {},
     "output_type": "execute_result"
    }
   ],
   "source": [
    "# Изучим ее структуру\n",
    "response['response'].keys()"
   ]
  },
  {
   "cell_type": "code",
   "execution_count": 5,
   "metadata": {
    "id": "ga6L68aETeAz",
    "outputId": "8fae0897-07d1-422c-e1a5-11ad6fba370a"
   },
   "outputs": [
    {
     "data": {
      "text/plain": [
       "dict_keys(['id', 'from_id', 'owner_id', 'date', 'marked_as_ads', 'post_type', 'text', 'attachments', 'post_source', 'comments', 'likes', 'reposts', 'views', 'is_favorite'])"
      ]
     },
     "execution_count": 5,
     "metadata": {},
     "output_type": "execute_result"
    }
   ],
   "source": [
    "# 'items' - это список из одного элемента, который является словарем с 14ю ключами.\n",
    "# Они то нам и нужны\n",
    "response['response']['items'][0].keys()"
   ]
  },
  {
   "cell_type": "markdown",
   "metadata": {
    "id": "vLXE3NMDTeA0"
   },
   "source": [
    "### Прочитаем из паблика SkillBox посты с октября 2019 года по ноябрь 2020 года включительно.\n",
    "\n",
    "Интересно сравнить как измененилась посещаемость и активность пользователей в октябре-ноябре 2020 года, по сравнению с аналогичным периодом 2019 года, а также оценить влияние введенных в стране и мире ограничительных мер в связи с коронавирусной инфекцией."
   ]
  },
  {
   "cell_type": "code",
   "execution_count": 6,
   "metadata": {
    "id": "Q61U_M8TTeA0"
   },
   "outputs": [],
   "source": [
    "# Объявим пустые списки для последующего создания датафрейма\n",
    "list_id = []\n",
    "list_date_int = []\n",
    "list_likes = []\n",
    "list_reposts = []\n",
    "list_views = []\n",
    "list_comments = []\n",
    "list_text = []\n",
    "\n",
    "# Считываем записи с ноября 2019 года\n",
    "dt = '2020-12-31'\n",
    "i = 1\n",
    "while dt > '2019-10-01':\n",
    "    url = 'https://api.vk.com/method/wall.get?access_token=' + str(vk_token) + \\\n",
    "        '&owner_id=-66669811&count=100' + \\\n",
    "        '&offset=' + str((i-1)*100+1) + \\\n",
    "        '&v=5.92'\n",
    "    response = requests.get(url).json()\n",
    "    dt = response['response']['items'][99]['date']\n",
    "    dt = (datetime.fromtimestamp(dt) - timedelta(hours=0)).strftime('%Y-%m-%d')\n",
    "\n",
    "    # Запоминаем данные в списки\n",
    "    for j in range(0,100):\n",
    "        list_id.append(response['response']['items'][j]['id'])\n",
    "        list_date_int.append(response['response']['items'][j]['date'])\n",
    "        list_likes.append(response['response']['items'][j]['likes']['count'])\n",
    "        list_reposts.append(response['response']['items'][j]['reposts']['count'])\n",
    "        list_views.append(response['response']['items'][j]['views']['count'])\n",
    "        list_comments.append(response['response']['items'][j]['comments']['count'])\n",
    "        list_text.append(response['response']['items'][j]['text'].replace('$', ' '))\n",
    "\n",
    "    i += 1"
   ]
  },
  {
   "cell_type": "code",
   "execution_count": 7,
   "metadata": {
    "id": "RUALgLm1TeA1"
   },
   "outputs": [],
   "source": [
    "# Здесь мы записываем полученные данные в датафрейм\n",
    "df = pd.DataFrame(columns = ['id', 'date_int', 'likes', 'reposts', 'views', 'comments', 'text'])\n",
    "df['id'] = list_id\n",
    "df['date_int'] = list_date_int\n",
    "df['likes'] = list_likes\n",
    "df['reposts'] = list_reposts\n",
    "df['views'] = list_views\n",
    "df['comments'] = list_comments\n",
    "df['text'] = list_text"
   ]
  },
  {
   "cell_type": "code",
   "execution_count": 8,
   "metadata": {
    "id": "SMzfGdg8TeA1"
   },
   "outputs": [],
   "source": [
    "# Сохраняем полученный датафрейм в csv файл\n",
    "# df.to_csv('Course2-2.csv', sep='$', index_label='index')\n",
    "\n",
    "# Читаем сохраненные данные из csv файла\n",
    "# df = pd.read_csv('Course2-2.csv', sep='$', index_col='index')"
   ]
  },
  {
   "cell_type": "code",
   "execution_count": 9,
   "metadata": {
    "id": "DMug5KRWTeA2"
   },
   "outputs": [],
   "source": [
    "# ДОБАВЛЯЕМ В ДАТАФРЕЙМ НУЖНЫЕ СТОЛБЦЫ\n",
    "# Дата в полном формате\n",
    "# df['date_full'] = df['date_int'].apply( lambda x: (datetime.fromtimestamp(x) - timedelta(hours=0)).strftime('%Y-%m-%d %H:%M:%S'))\n",
    "# Дата в коротком формате\n",
    "df['date'] = df['date_int'].apply( lambda x: (datetime.fromtimestamp(x) - timedelta(hours=0)).strftime('%Y-%m-%d'))\n",
    "# Часы\n",
    "df['time'] = df['date_int'].apply( lambda x: (datetime.fromtimestamp(x) - timedelta(hours=0)).strftime('%H'))\n",
    "\n",
    "# Дата в формате Год-месяц\n",
    "df['y_m'] = df['date_int'].apply( lambda x: (datetime.fromtimestamp(x) - timedelta(hours=0)).strftime('%Y-%m'))\n",
    "\n",
    "# Дата в формате день месяца\n",
    "df['day'] = df['date_int'].apply( lambda x: (datetime.fromtimestamp(x) - timedelta(hours=0)).strftime('%d'))\n",
    "\n",
    "# День недели\n",
    "df['wd'] = df['date_int'].apply( lambda x: (datetime.fromtimestamp(x) - timedelta(hours=0)).strftime('%a'))"
   ]
  },
  {
   "cell_type": "code",
   "execution_count": 10,
   "metadata": {
    "id": "NkrN_AyOTeA2",
    "outputId": "e33e8b63-a57c-482c-a125-a9ad084740b7"
   },
   "outputs": [
    {
     "data": {
      "text/html": [
       "<div>\n",
       "<style scoped>\n",
       "    .dataframe tbody tr th:only-of-type {\n",
       "        vertical-align: middle;\n",
       "    }\n",
       "\n",
       "    .dataframe tbody tr th {\n",
       "        vertical-align: top;\n",
       "    }\n",
       "\n",
       "    .dataframe thead th {\n",
       "        text-align: right;\n",
       "    }\n",
       "</style>\n",
       "<table border=\"1\" class=\"dataframe\">\n",
       "  <thead>\n",
       "    <tr style=\"text-align: right;\">\n",
       "      <th></th>\n",
       "      <th>index</th>\n",
       "      <th>id</th>\n",
       "      <th>date_int</th>\n",
       "      <th>likes</th>\n",
       "      <th>reposts</th>\n",
       "      <th>views</th>\n",
       "      <th>comments</th>\n",
       "      <th>text</th>\n",
       "      <th>date</th>\n",
       "      <th>time</th>\n",
       "      <th>y_m</th>\n",
       "      <th>day</th>\n",
       "      <th>wd</th>\n",
       "    </tr>\n",
       "  </thead>\n",
       "  <tbody>\n",
       "    <tr>\n",
       "      <th>0</th>\n",
       "      <td>93</td>\n",
       "      <td>119665</td>\n",
       "      <td>1604151093</td>\n",
       "      <td>63</td>\n",
       "      <td>4</td>\n",
       "      <td>51591</td>\n",
       "      <td>4</td>\n",
       "      <td>2020 год заставил бренды подстраиваться под но...</td>\n",
       "      <td>2020-10-31</td>\n",
       "      <td>17</td>\n",
       "      <td>2020-10</td>\n",
       "      <td>31</td>\n",
       "      <td>Sat</td>\n",
       "    </tr>\n",
       "    <tr>\n",
       "      <th>1</th>\n",
       "      <td>94</td>\n",
       "      <td>119541</td>\n",
       "      <td>1604047539</td>\n",
       "      <td>148</td>\n",
       "      <td>4</td>\n",
       "      <td>53528</td>\n",
       "      <td>16</td>\n",
       "      <td>А что, если бы злодеи из фильмов ужасов записа...</td>\n",
       "      <td>2020-10-30</td>\n",
       "      <td>12</td>\n",
       "      <td>2020-10</td>\n",
       "      <td>30</td>\n",
       "      <td>Fri</td>\n",
       "    </tr>\n",
       "    <tr>\n",
       "      <th>2</th>\n",
       "      <td>95</td>\n",
       "      <td>119453</td>\n",
       "      <td>1603980020</td>\n",
       "      <td>79</td>\n",
       "      <td>12</td>\n",
       "      <td>40060</td>\n",
       "      <td>2</td>\n",
       "      <td>Иллюстратор рисует иллюстрации, вроде всё прос...</td>\n",
       "      <td>2020-10-29</td>\n",
       "      <td>18</td>\n",
       "      <td>2020-10</td>\n",
       "      <td>29</td>\n",
       "      <td>Thu</td>\n",
       "    </tr>\n",
       "    <tr>\n",
       "      <th>3</th>\n",
       "      <td>96</td>\n",
       "      <td>119411</td>\n",
       "      <td>1603962834</td>\n",
       "      <td>266</td>\n",
       "      <td>46</td>\n",
       "      <td>42646</td>\n",
       "      <td>0</td>\n",
       "      <td>У фотографов муза — ну очень капризная!\\n\\nОна...</td>\n",
       "      <td>2020-10-29</td>\n",
       "      <td>13</td>\n",
       "      <td>2020-10</td>\n",
       "      <td>29</td>\n",
       "      <td>Thu</td>\n",
       "    </tr>\n",
       "    <tr>\n",
       "      <th>4</th>\n",
       "      <td>97</td>\n",
       "      <td>119304</td>\n",
       "      <td>1603897268</td>\n",
       "      <td>90</td>\n",
       "      <td>11</td>\n",
       "      <td>34556</td>\n",
       "      <td>23</td>\n",
       "      <td>Не стоит искать свободы в творческих профессия...</td>\n",
       "      <td>2020-10-28</td>\n",
       "      <td>19</td>\n",
       "      <td>2020-10</td>\n",
       "      <td>28</td>\n",
       "      <td>Wed</td>\n",
       "    </tr>\n",
       "  </tbody>\n",
       "</table>\n",
       "</div>"
      ],
      "text/plain": [
       "   index      id    date_int  likes  reposts  views  comments  \\\n",
       "0     93  119665  1604151093     63        4  51591         4   \n",
       "1     94  119541  1604047539    148        4  53528        16   \n",
       "2     95  119453  1603980020     79       12  40060         2   \n",
       "3     96  119411  1603962834    266       46  42646         0   \n",
       "4     97  119304  1603897268     90       11  34556        23   \n",
       "\n",
       "                                                text        date time  \\\n",
       "0  2020 год заставил бренды подстраиваться под но...  2020-10-31   17   \n",
       "1  А что, если бы злодеи из фильмов ужасов записа...  2020-10-30   12   \n",
       "2  Иллюстратор рисует иллюстрации, вроде всё прос...  2020-10-29   18   \n",
       "3  У фотографов муза — ну очень капризная!\\n\\nОна...  2020-10-29   13   \n",
       "4  Не стоит искать свободы в творческих профессия...  2020-10-28   19   \n",
       "\n",
       "       y_m day   wd  \n",
       "0  2020-10  31  Sat  \n",
       "1  2020-10  30  Fri  \n",
       "2  2020-10  29  Thu  \n",
       "3  2020-10  29  Thu  \n",
       "4  2020-10  28  Wed  "
      ]
     },
     "execution_count": 10,
     "metadata": {},
     "output_type": "execute_result"
    }
   ],
   "source": [
    "# Сохраняем в дополнительный датафрейм данные по ноябрю 2019 и по ноябрю 2020\n",
    "df_small = df[ ((df['date'] >= '2019-10-01') & (df['date'] <= '2019-10-31')) | ((df['date'] >= '2020-10-01') & (df['date'] <= '2020-10-31'))].reset_index()\n",
    "df_small.head(5)"
   ]
  },
  {
   "cell_type": "code",
   "execution_count": 11,
   "metadata": {
    "id": "QR3Hz5VrTeA3",
    "outputId": "4cd5f9c9-e1c0-434b-be4b-6de56e8d5013"
   },
   "outputs": [
    {
     "data": {
      "text/html": [
       "<div>\n",
       "<style scoped>\n",
       "    .dataframe tbody tr th:only-of-type {\n",
       "        vertical-align: middle;\n",
       "    }\n",
       "\n",
       "    .dataframe tbody tr th {\n",
       "        vertical-align: top;\n",
       "    }\n",
       "\n",
       "    .dataframe thead th {\n",
       "        text-align: right;\n",
       "    }\n",
       "</style>\n",
       "<table border=\"1\" class=\"dataframe\">\n",
       "  <thead>\n",
       "    <tr style=\"text-align: right;\">\n",
       "      <th></th>\n",
       "      <th>index</th>\n",
       "      <th>id</th>\n",
       "      <th>date_int</th>\n",
       "      <th>likes</th>\n",
       "      <th>reposts</th>\n",
       "      <th>views</th>\n",
       "      <th>comments</th>\n",
       "      <th>text</th>\n",
       "      <th>date</th>\n",
       "      <th>time</th>\n",
       "      <th>y_m</th>\n",
       "      <th>day</th>\n",
       "      <th>wd</th>\n",
       "    </tr>\n",
       "  </thead>\n",
       "  <tbody>\n",
       "    <tr>\n",
       "      <th>0</th>\n",
       "      <td>57</td>\n",
       "      <td>127989</td>\n",
       "      <td>1606750233</td>\n",
       "      <td>72</td>\n",
       "      <td>10</td>\n",
       "      <td>26006</td>\n",
       "      <td>0</td>\n",
       "      <td>KPI — это показатели, по которым клиент или ра...</td>\n",
       "      <td>2020-11-30</td>\n",
       "      <td>19</td>\n",
       "      <td>2020-11</td>\n",
       "      <td>30</td>\n",
       "      <td>Mon</td>\n",
       "    </tr>\n",
       "    <tr>\n",
       "      <th>1</th>\n",
       "      <td>58</td>\n",
       "      <td>127974</td>\n",
       "      <td>1606742323</td>\n",
       "      <td>72</td>\n",
       "      <td>7</td>\n",
       "      <td>30828</td>\n",
       "      <td>5</td>\n",
       "      <td>Вас ждет насыщенная неделя! Научим вас проекти...</td>\n",
       "      <td>2020-11-30</td>\n",
       "      <td>17</td>\n",
       "      <td>2020-11</td>\n",
       "      <td>30</td>\n",
       "      <td>Mon</td>\n",
       "    </tr>\n",
       "    <tr>\n",
       "      <th>2</th>\n",
       "      <td>59</td>\n",
       "      <td>127766</td>\n",
       "      <td>1606723435</td>\n",
       "      <td>143</td>\n",
       "      <td>3</td>\n",
       "      <td>40089</td>\n",
       "      <td>28</td>\n",
       "      <td>«Свой парень на районе» — айдентика Okolo. Слу...</td>\n",
       "      <td>2020-11-30</td>\n",
       "      <td>12</td>\n",
       "      <td>2020-11</td>\n",
       "      <td>30</td>\n",
       "      <td>Mon</td>\n",
       "    </tr>\n",
       "    <tr>\n",
       "      <th>3</th>\n",
       "      <td>60</td>\n",
       "      <td>127754</td>\n",
       "      <td>1606652616</td>\n",
       "      <td>335</td>\n",
       "      <td>39</td>\n",
       "      <td>49255</td>\n",
       "      <td>16</td>\n",
       "      <td>Как бы написали слово «ёлка» в XVIII веке? Не ...</td>\n",
       "      <td>2020-11-29</td>\n",
       "      <td>16</td>\n",
       "      <td>2020-11</td>\n",
       "      <td>29</td>\n",
       "      <td>Sun</td>\n",
       "    </tr>\n",
       "    <tr>\n",
       "      <th>4</th>\n",
       "      <td>61</td>\n",
       "      <td>127630</td>\n",
       "      <td>1606566183</td>\n",
       "      <td>82</td>\n",
       "      <td>16</td>\n",
       "      <td>28695</td>\n",
       "      <td>0</td>\n",
       "      <td>Свежая подборка бесплатных шрифтов! Пополняйте...</td>\n",
       "      <td>2020-11-28</td>\n",
       "      <td>16</td>\n",
       "      <td>2020-11</td>\n",
       "      <td>28</td>\n",
       "      <td>Sat</td>\n",
       "    </tr>\n",
       "  </tbody>\n",
       "</table>\n",
       "</div>"
      ],
      "text/plain": [
       "   index      id    date_int  likes  reposts  views  comments  \\\n",
       "0     57  127989  1606750233     72       10  26006         0   \n",
       "1     58  127974  1606742323     72        7  30828         5   \n",
       "2     59  127766  1606723435    143        3  40089        28   \n",
       "3     60  127754  1606652616    335       39  49255        16   \n",
       "4     61  127630  1606566183     82       16  28695         0   \n",
       "\n",
       "                                                text        date time  \\\n",
       "0  KPI — это показатели, по которым клиент или ра...  2020-11-30   19   \n",
       "1  Вас ждет насыщенная неделя! Научим вас проекти...  2020-11-30   17   \n",
       "2  «Свой парень на районе» — айдентика Okolo. Слу...  2020-11-30   12   \n",
       "3  Как бы написали слово «ёлка» в XVIII веке? Не ...  2020-11-29   16   \n",
       "4  Свежая подборка бесплатных шрифтов! Пополняйте...  2020-11-28   16   \n",
       "\n",
       "       y_m day   wd  \n",
       "0  2020-11  30  Mon  \n",
       "1  2020-11  30  Mon  \n",
       "2  2020-11  30  Mon  \n",
       "3  2020-11  29  Sun  \n",
       "4  2020-11  28  Sat  "
      ]
     },
     "execution_count": 11,
     "metadata": {},
     "output_type": "execute_result"
    }
   ],
   "source": [
    "# Фильтруем данные по нужному периоду - с декабря 2019 по ноябрь 2020\n",
    "df = df[ (df['date'] >= '2019-12-01') & (df['date'] <= '2020-11-30')].reset_index()\n",
    "df.head()"
   ]
  },
  {
   "cell_type": "markdown",
   "metadata": {
    "id": "MidK_jBWTeA3"
   },
   "source": [
    "Мы сформировали таблицы с требуемыми данными. Теперь займемся анализом.\n",
    "\n",
    "Под показателями активности пользователей будем понимать:\n",
    "- количество просмотров поста\n",
    "- количество поставленных под постом лайков\n",
    "- количество репостов поста\n",
    "- количество сделанных к посту комментариев\n",
    "\n",
    "Проанализируем динамику показателей активности и попытаемся найти зависимость активности посетителей Паблика:\n",
    "1. По месяцам\n",
    "2. По дням месяца\n",
    "3. По дням недели\n",
    "4. По времени суток\n",
    "5. По рубрикам\n",
    "\n",
    "Кроме того:\n",
    "6. Посмотрим наличие зависимостей показателей активности друг от друга.\n",
    "\n",
    "А также оценим внлияние карантиных мер на посещаемость Паблика, для чего:\n",
    "7. Сравним показатели активности в ноябре 2019 года и в ноябре 2020 года."
   ]
  },
  {
   "cell_type": "markdown",
   "metadata": {
    "id": "n4pKPhKwTeA4"
   },
   "source": [
    "### 1. Показатели активности по месяцам с декабря 2019 про ноябрь 2020 гг."
   ]
  },
  {
   "cell_type": "code",
   "execution_count": 12,
   "metadata": {
    "id": "yl1TIVfhTeA4",
    "outputId": "846cb6ba-2ae5-4b1d-b536-cbcf06292188"
   },
   "outputs": [
    {
     "name": "stderr",
     "output_type": "stream",
     "text": [
      "<ipython-input-12-7a743a2d00ae>:1: FutureWarning: Indexing with multiple keys (implicitly converted to a tuple of keys) will be deprecated, use a list instead.\n",
      "  df1 = df.groupby(['y_m'])['id', 'views', 'likes', 'reposts', 'comments'].\\\n"
     ]
    },
    {
     "data": {
      "image/png": "[encoded data removed]",
      "text/plain": [
       "<Figure size 864x288 with 1 Axes>"
      ]
     },
     "metadata": {
      "needs_background": "light"
     },
     "output_type": "display_data"
    }
   ],
   "source": [
    "df1 = df.groupby(['y_m'])['id', 'views', 'likes', 'reposts', 'comments'].\\\n",
    "    agg({ 'id':'count', 'views':'sum', 'likes':'sum', 'reposts':'sum', 'comments':'sum' }).reset_index()\n",
    "\n",
    "plt.figure(figsize=(12, 4))\n",
    "plt.bar(df1['y_m'], df1['id'])\n",
    "plt.xticks(rotation=90)\n",
    "plt.title('Количество постов за месяц', fontsize='large')\n",
    "plt.show()"
   ]
  },
  {
   "cell_type": "code",
   "execution_count": 13,
   "metadata": {
    "id": "5Sl_IYbxTeA5"
   },
   "outputs": [],
   "source": [
    "# Лайки, просмотры и репосты на 1 пост\n",
    "df1['views'] = df1['views'] / df1['id']\n",
    "df1['likes'] = df1['likes'] / df1['id']\n",
    "df1['reposts'] = df1['reposts'] / df1['id']\n",
    "df1['comments'] = df1['comments'] / df1['id']"
   ]
  },
  {
   "cell_type": "code",
   "execution_count": 14,
   "metadata": {
    "id": "bdGN-gDRTeA5",
    "outputId": "3ba8f654-da60-4e38-fe55-2e409baa18e2"
   },
   "outputs": [
    {
     "data": {
      "image/png": "[encoded data removed]",
      "text/plain": [
       "<Figure size 1152x576 with 4 Axes>"
      ]
     },
     "metadata": {
      "needs_background": "light"
     },
     "output_type": "display_data"
    }
   ],
   "source": [
    "fig = plt.figure(figsize=(16, 8))\n",
    "\n",
    "plt.subplot(2, 2, 1)\n",
    "plt.bar(df1['y_m'], df1['views'])\n",
    "plt.title('Количество просмотров на 1 пост по месяцам', fontsize='large')\n",
    "plt.xticks(rotation=90)\n",
    "\n",
    "plt.subplot(2, 2, 2)\n",
    "plt.bar(df1['y_m'], df1['likes'])\n",
    "plt.title('Количество лайков на 1 пост по месяцам', fontsize='large')\n",
    "plt.xticks(rotation=90)\n",
    "\n",
    "plt.subplot(2, 2, 3)\n",
    "plt.bar(df1['y_m'], df1['reposts'])\n",
    "plt.title('Количество репостов на 1 пост по месяцам', fontsize='large')\n",
    "plt.xticks(rotation=90)\n",
    "\n",
    "plt.subplot(2, 2, 4)\n",
    "plt.bar(df1['y_m'], df1['comments'])\n",
    "plt.title('Количество комментариев на 1 пост по месяцам', fontsize='large')\n",
    "plt.xticks(rotation=90)\n",
    "\n",
    "plt.subplots_adjust(hspace=0.5)\n",
    "plt.show()"
   ]
  },
  {
   "cell_type": "code",
   "execution_count": 15,
   "metadata": {
    "id": "tzEdxz0rTeA6",
    "outputId": "9e01448e-e60d-4768-9890-631dbb770fa2"
   },
   "outputs": [
    {
     "name": "stderr",
     "output_type": "stream",
     "text": [
      "<ipython-input-15-efce28ee69fa>:1: FutureWarning: Indexing with multiple keys (implicitly converted to a tuple of keys) will be deprecated, use a list instead.\n",
      "  df1 = df.groupby(['y_m'])['views', 'likes', 'reposts'].\\\n"
     ]
    },
    {
     "data": {
      "image/png": "[encoded data removed]",
      "text/plain": [
       "<Figure size 1152x216 with 2 Axes>"
      ]
     },
     "metadata": {
      "needs_background": "light"
     },
     "output_type": "display_data"
    }
   ],
   "source": [
    "df1 = df.groupby(['y_m'])['views', 'likes', 'reposts'].\\\n",
    "    agg({ 'views':'sum', 'likes':'sum', 'reposts':'sum' }).reset_index()\n",
    "\n",
    "df1['reposts'] = df1['reposts'] / df1['likes'] * 100\n",
    "df1['likes'] = df1['likes'] / df1['views'] * 100\n",
    "\n",
    "fig = plt.figure(figsize=(16, 3))\n",
    "\n",
    "plt.subplot(1, 2, 1)\n",
    "plt.bar(df1['y_m'], df1['likes'])\n",
    "plt.title('Конверсия просмотров в лайки по месяцам, в %', fontsize='large')\n",
    "plt.xticks(rotation=90)\n",
    "\n",
    "plt.subplot(1, 2, 2)\n",
    "plt.bar(df1['y_m'], df1['reposts'])\n",
    "plt.title('Конверсия лайков в репосты по месяцам, в %', fontsize='large')\n",
    "plt.xticks(rotation=90)\n",
    "\n",
    "plt.subplots_adjust(hspace=0.4)\n",
    "plt.show()"
   ]
  },
  {
   "cell_type": "markdown",
   "metadata": {
    "id": "0gBnZciVTeA7"
   },
   "source": [
    "Интерес к ресурсу (количество просмотров записей) начал активно рости начиная с апреля 2020 года. Можно отметить резкое увеличение просмотров в мае. На данный момент максимум наблюдается в ноябре 2020г. Аудитория Паблика по просмотрам увеличилась за год более чем в полтора раза.\n",
    "\n",
    "Однако, это не отразилось на активности пользователей - на количестве лайков, репостов и комментариев. Всплеск наблюдается в мае 2020г. \n",
    "\n",
    "Как следствие сохранения количества активных действий на фоне роста просмотров, наблюдается некоторое снижение конверсии просмотров в лайки и в репосты."
   ]
  },
  {
   "cell_type": "markdown",
   "metadata": {
    "id": "HqNb1ZnSTeA8"
   },
   "source": [
    "### 2. Показатели активности в зависимости от времени дня месяца"
   ]
  },
  {
   "cell_type": "code",
   "execution_count": 16,
   "metadata": {
    "id": "1tWlZE7lTeA8",
    "outputId": "55c64c17-2f2c-43f6-de88-1e00c9ce6de9"
   },
   "outputs": [
    {
     "name": "stderr",
     "output_type": "stream",
     "text": [
      "<ipython-input-16-90d899191f31>:1: FutureWarning: Indexing with multiple keys (implicitly converted to a tuple of keys) will be deprecated, use a list instead.\n",
      "  df2 = df.groupby(['day'])['id', 'views', 'likes', 'reposts', 'comments'].\\\n"
     ]
    }
   ],
   "source": [
    "df2 = df.groupby(['day'])['id', 'views', 'likes', 'reposts', 'comments'].\\\n",
    "    agg({ 'id':'count', 'id':'count', 'views':'sum', 'likes':'sum', 'reposts':'sum', 'comments':'sum' }).reset_index()"
   ]
  },
  {
   "cell_type": "code",
   "execution_count": 17,
   "metadata": {
    "id": "SYf_hFmHTeA9",
    "outputId": "cdd44fab-a4a3-4078-9e74-5e4c4f38df33"
   },
   "outputs": [
    {
     "data": {
      "image/png": "[encoded data removed]",
      "text/plain": [
       "<Figure size 864x216 with 1 Axes>"
      ]
     },
     "metadata": {
      "needs_background": "light"
     },
     "output_type": "display_data"
    }
   ],
   "source": [
    "plt.figure(figsize=(12, 3))\n",
    "plt.bar(df2['day'], df2['id'], color='#8e82fe')\n",
    "plt.title('Количество постов в зависимости от дня месяца', fontsize='large')\n",
    "plt.show()"
   ]
  },
  {
   "cell_type": "code",
   "execution_count": 18,
   "metadata": {
    "id": "uLv63JGjTeA-"
   },
   "outputs": [],
   "source": [
    "# Лайки, просмотры и репосты на 1 пост\n",
    "df2['views'] = df2['views'] / df2['id']\n",
    "df2['likes'] = df2['likes'] / df2['id']\n",
    "df2['reposts'] = df2['reposts'] / df2['id']\n",
    "df2['comments'] = df2['comments'] / df2['id']"
   ]
  },
  {
   "cell_type": "code",
   "execution_count": 19,
   "metadata": {
    "id": "Uj2kydifTeA-",
    "outputId": "f726ba5a-f2d7-473d-e6d8-5103e2c63fa4"
   },
   "outputs": [
    {
     "data": {
      "image/png": "[encoded data removed]",
      "text/plain": [
       "<Figure size 1152x576 with 4 Axes>"
      ]
     },
     "metadata": {
      "needs_background": "light"
     },
     "output_type": "display_data"
    }
   ],
   "source": [
    "fig = plt.figure(figsize=(16, 8))\n",
    "\n",
    "plt.subplot(2, 2, 1)\n",
    "plt.bar(df2['day'], df2['views'], color='#8e82fe')\n",
    "plt.title('Количество просмотров на 1 пост\\nв зависимости от дня месяца', fontsize='large')\n",
    "\n",
    "plt.subplot(2, 2, 2)\n",
    "plt.bar(df2['day'], df2['likes'], color='#8e82fe')\n",
    "plt.title('Количество лайков на 1 пост\\nв зависимости от дня месяца', fontsize='large')\n",
    "\n",
    "plt.subplot(2, 2, 3)\n",
    "plt.bar(df2['day'], df2['reposts'], color='#8e82fe')\n",
    "plt.title('Количество репостов на 1 пост\\nв зависимости от дня месяца', fontsize='large')\n",
    "\n",
    "plt.subplot(2, 2, 4)\n",
    "plt.bar(df2['day'], df2['comments'], color='#8e82fe')\n",
    "plt.title('Количество комментариев на 1 пост\\nв зависимости от дня месяца', fontsize='large')\n",
    "\n",
    "plt.subplots_adjust(hspace=0.4)\n",
    "plt.show()"
   ]
  },
  {
   "cell_type": "code",
   "execution_count": 20,
   "metadata": {
    "id": "eNYwdmxqTeA_",
    "outputId": "48749fcb-67f3-4825-8e40-c39328312682"
   },
   "outputs": [
    {
     "name": "stderr",
     "output_type": "stream",
     "text": [
      "<ipython-input-20-8a631cc0a1bd>:1: FutureWarning: Indexing with multiple keys (implicitly converted to a tuple of keys) will be deprecated, use a list instead.\n",
      "  df2 = df.groupby(['day'])['views', 'likes', 'reposts'].\\\n"
     ]
    },
    {
     "data": {
      "image/png": "[encoded data removed]",
      "text/plain": [
       "<Figure size 1152x216 with 2 Axes>"
      ]
     },
     "metadata": {
      "needs_background": "light"
     },
     "output_type": "display_data"
    }
   ],
   "source": [
    "df2 = df.groupby(['day'])['views', 'likes', 'reposts'].\\\n",
    "    agg({ 'views':'sum', 'likes':'sum', 'reposts':'sum' }).reset_index()\n",
    "\n",
    "df2['reposts'] = df2['reposts'] / df2['likes'] * 100\n",
    "df2['likes'] = df2['likes'] / df2['views'] * 100\n",
    "\n",
    "fig = plt.figure(figsize=(16, 3))\n",
    "\n",
    "plt.subplot(1, 2, 1)\n",
    "plt.bar(df2['day'], df2['likes'], color='#8e82fe')\n",
    "plt.title('Конверсия просмотров в лайки по дням месяца, в %', fontsize='large')\n",
    "plt.xticks(rotation=90)\n",
    "\n",
    "plt.subplot(1, 2, 2)\n",
    "plt.bar(df2['day'], df2['reposts'], color='#8e82fe')\n",
    "plt.title('Конверсия лайков в репосты по дням месяца, в %', fontsize='large')\n",
    "plt.xticks(rotation=90)\n",
    "\n",
    "plt.subplots_adjust(hspace=0.4)\n",
    "plt.show()"
   ]
  },
  {
   "cell_type": "markdown",
   "metadata": {
    "id": "N-q0hhs_TeA_"
   },
   "source": [
    "На основании представленных диаграмм невозможно сделать вывод о наличии зависимости между активностью посетителей Паблика и днём месяца."
   ]
  },
  {
   "cell_type": "markdown",
   "metadata": {
    "id": "VpS-WbG4TeA_"
   },
   "source": [
    "### 3. Показатели активности в зависимости от дня недели"
   ]
  },
  {
   "cell_type": "code",
   "execution_count": 21,
   "metadata": {
    "id": "T2KssFd6TeBA",
    "outputId": "13609f62-cd97-4ed2-8cb1-6fd0dc47ca6d"
   },
   "outputs": [
    {
     "name": "stderr",
     "output_type": "stream",
     "text": [
      "<ipython-input-21-228126d1b93d>:1: FutureWarning: Indexing with multiple keys (implicitly converted to a tuple of keys) will be deprecated, use a list instead.\n",
      "  df3 = df.groupby(['wd'])['id', 'views', 'likes', 'reposts', 'comments'].\\\n"
     ]
    }
   ],
   "source": [
    "df3 = df.groupby(['wd'])['id', 'views', 'likes', 'reposts', 'comments'].\\\n",
    "    agg({ 'id':'count', 'views':'sum', 'likes':'sum', 'reposts':'sum', 'comments':'sum' }).reset_index()\n",
    "\n",
    "df3['weekday'] = pd.Categorical(df3.wd, categories=[\"Mon\", \"Tue\", \"Wed\", \"Thu\", \"Fri\", \"Sat\", \"Sun\"])\n",
    "df3.sort_values('weekday', inplace=True)"
   ]
  },
  {
   "cell_type": "code",
   "execution_count": 22,
   "metadata": {
    "id": "qb0xOT3WTeBA",
    "outputId": "4a4c3e5d-2f76-4c8f-e22a-001601e0947c"
   },
   "outputs": [
    {
     "data": {
      "image/png": "[encoded data removed]",
      "text/plain": [
       "<Figure size 864x216 with 1 Axes>"
      ]
     },
     "metadata": {
      "needs_background": "light"
     },
     "output_type": "display_data"
    }
   ],
   "source": [
    "plt.figure(figsize=(12, 3))\n",
    "plt.bar(df3['wd'], df3['id'], color='g')\n",
    "plt.title('Количество постов по дням недели', fontsize='large')\n",
    "plt.show()"
   ]
  },
  {
   "cell_type": "code",
   "execution_count": 23,
   "metadata": {
    "id": "lP_8bgIhTeBB"
   },
   "outputs": [],
   "source": [
    "# Лайки, просмотры и репосты на 1 пост\n",
    "df3['views'] = df3['views'] / df3['id']\n",
    "df3['likes'] = df3['likes'] / df3['id']\n",
    "df3['reposts'] = df3['reposts'] / df3['id']\n",
    "df3['comments'] = df3['comments'] / df3['id']"
   ]
  },
  {
   "cell_type": "code",
   "execution_count": 24,
   "metadata": {
    "id": "fyDPxuSPTeBB",
    "outputId": "084d879e-fd52-4af0-d3a3-1de4786ee1b4"
   },
   "outputs": [
    {
     "data": {
      "image/png": "[encoded data removed]",
      "text/plain": [
       "<Figure size 1152x576 with 4 Axes>"
      ]
     },
     "metadata": {
      "needs_background": "light"
     },
     "output_type": "display_data"
    }
   ],
   "source": [
    "df3['weekday'] = pd.Categorical(df3.wd, categories=[\"Mon\", \"Tue\", \"Wed\", \"Thu\", \"Fri\", \"Sat\", \"Sun\"])\n",
    "df3.sort_values('weekday', inplace=True)\n",
    "\n",
    "fig = plt.figure(figsize=(16, 8))\n",
    "\n",
    "plt.subplot(2, 2, 1)\n",
    "plt.bar(df3['wd'], df3['views'], color='g')\n",
    "plt.title('Количество просмотров на 1 пост\\nпо дням недели', fontsize='large')\n",
    "\n",
    "plt.subplot(2, 2, 2)\n",
    "plt.bar(df3['wd'], df3['likes'], color='g')\n",
    "plt.title('Количество лайков на 1 пост\\nпо дням недели', fontsize='large')\n",
    "\n",
    "plt.subplot(2, 2, 3)\n",
    "plt.bar(df3['wd'], df3['reposts'], color='g')\n",
    "plt.title('Количество репостов на 1 пост\\nпо дням недели', fontsize='large')\n",
    "\n",
    "plt.subplot(2, 2, 4)\n",
    "plt.bar(df3['wd'], df3['comments'], color='g')\n",
    "plt.title('Количество комментариев на 1 пост\\nпо дням недели', fontsize='large')\n",
    "\n",
    "plt.subplots_adjust(hspace=0.4)\n",
    "plt.show()"
   ]
  },
  {
   "cell_type": "code",
   "execution_count": 25,
   "metadata": {
    "id": "RpVqYG1xTeBB",
    "outputId": "be7fad30-8c89-42d9-b1f0-64dd3b6cb8f0"
   },
   "outputs": [
    {
     "name": "stderr",
     "output_type": "stream",
     "text": [
      "<ipython-input-25-727986ba3207>:1: FutureWarning: Indexing with multiple keys (implicitly converted to a tuple of keys) will be deprecated, use a list instead.\n",
      "  df3 = df.groupby(['wd'])['views', 'likes', 'reposts'].\\\n"
     ]
    },
    {
     "data": {
      "image/png": "[encoded data removed]",
      "text/plain": [
       "<Figure size 1152x216 with 2 Axes>"
      ]
     },
     "metadata": {
      "needs_background": "light"
     },
     "output_type": "display_data"
    }
   ],
   "source": [
    "df3 = df.groupby(['wd'])['views', 'likes', 'reposts'].\\\n",
    "    agg({ 'views':'sum', 'likes':'sum', 'reposts':'sum' }).reset_index()\n",
    "\n",
    "df3['weekday'] = pd.Categorical(df3.wd, categories=[\"Mon\", \"Tue\", \"Wed\", \"Thu\", \"Fri\", \"Sat\", \"Sun\"])\n",
    "df3.sort_values('weekday', inplace=True)\n",
    "\n",
    "df3['reposts'] = df3['reposts'] / df3['likes'] * 100\n",
    "df3['likes'] = df3['likes'] / df3['views'] * 100\n",
    "\n",
    "fig = plt.figure(figsize=(16, 3))\n",
    "\n",
    "plt.subplot(1, 2, 1)\n",
    "plt.bar(df3['wd'], df3['likes'], color='g')\n",
    "plt.title('Конверсия просмотров в лайки по дням месяца, в %', fontsize='large')\n",
    "plt.xticks(rotation=90)\n",
    "\n",
    "plt.subplot(1, 2, 2)\n",
    "plt.bar(df3['wd'], df3['reposts'], color='g')\n",
    "plt.title('Конверсия лайков в репосты по дням месяца, в %', fontsize='large')\n",
    "plt.xticks(rotation=90)\n",
    "\n",
    "plt.subplots_adjust(hspace=0.4)\n",
    "plt.show()"
   ]
  },
  {
   "cell_type": "markdown",
   "metadata": {
    "id": "kWHLBPIBTeBC"
   },
   "source": [
    "\n",
    "Количество выложенных постов уменьшается от понедельника к выходным. Активность пользователей наоборот, в выходные возрастает. Также повышенной активностью выделяется среда."
   ]
  },
  {
   "cell_type": "markdown",
   "metadata": {
    "id": "BhIwzGh0TeBC"
   },
   "source": [
    "### 4. Показатели активности в зависимости от времени суток"
   ]
  },
  {
   "cell_type": "code",
   "execution_count": 26,
   "metadata": {
    "id": "rpCusppcTeBC",
    "outputId": "ac41f25b-0824-4455-8f87-94e1cd7cf62d"
   },
   "outputs": [
    {
     "name": "stderr",
     "output_type": "stream",
     "text": [
      "<ipython-input-26-e607f28a21cd>:1: FutureWarning: Indexing with multiple keys (implicitly converted to a tuple of keys) will be deprecated, use a list instead.\n",
      "  df4 = df.groupby(['time'])['id', 'views', 'likes', 'reposts', 'comments'].\\\n"
     ]
    }
   ],
   "source": [
    "df4 = df.groupby(['time'])['id', 'views', 'likes', 'reposts', 'comments'].\\\n",
    "    agg({ 'id':'count', 'views':'sum', 'likes':'sum', 'reposts':'sum', 'comments':'sum' }).reset_index()"
   ]
  },
  {
   "cell_type": "code",
   "execution_count": 27,
   "metadata": {
    "id": "aZt6WHUfTeBD",
    "outputId": "4c95da7e-717f-4ea9-de2a-8906e0101643",
    "scrolled": true
   },
   "outputs": [
    {
     "data": {
      "image/png": "[encoded data removed]",
      "text/plain": [
       "<Figure size 864x216 with 1 Axes>"
      ]
     },
     "metadata": {
      "needs_background": "light"
     },
     "output_type": "display_data"
    }
   ],
   "source": [
    "plt.figure(figsize=(12, 3))\n",
    "plt.bar(df4['time'], df4['id'], color='#92000a')\n",
    "plt.title('Количество постов в зависимости от времени суток', fontsize='large')\n",
    "plt.show()"
   ]
  },
  {
   "cell_type": "code",
   "execution_count": 28,
   "metadata": {
    "id": "ckbREQioTeBD"
   },
   "outputs": [],
   "source": [
    "# Лайки, просмотры и репосты на 1 пост\n",
    "df4['views'] = df4['views'] / df4['id']\n",
    "df4['likes'] = df4['likes'] / df4['id']\n",
    "df4['reposts'] = df4['reposts'] / df4['id']\n",
    "df4['comments'] = df4['comments'] / df4['id']"
   ]
  },
  {
   "cell_type": "code",
   "execution_count": 29,
   "metadata": {
    "id": "hatSPkkfTeBE",
    "outputId": "731b154a-2efe-4c04-d8f5-c63391ab04c7"
   },
   "outputs": [
    {
     "data": {
      "image/png": "[encoded data removed]",
      "text/plain": [
       "<Figure size 1152x576 with 4 Axes>"
      ]
     },
     "metadata": {
      "needs_background": "light"
     },
     "output_type": "display_data"
    }
   ],
   "source": [
    "fig = plt.figure(figsize=(16, 8))\n",
    "\n",
    "plt.subplot(2, 2, 1)\n",
    "plt.bar(df4['time'], df4['views'], color='#92000a')\n",
    "plt.title('Количество просмотров на 1 пост\\nв зависимости от времени суток', fontsize='large')\n",
    "\n",
    "plt.subplot(2, 2, 2)\n",
    "plt.bar(df4['time'], df4['likes'], color='#92000a')\n",
    "plt.title('Количество лайков на 1 пост\\nв зависимости от времени суток', fontsize='large')\n",
    "\n",
    "plt.subplot(2, 2, 3)\n",
    "plt.bar(df4['time'], df4['reposts'], color='#92000a')\n",
    "plt.title('Количество репостов на 1 пост\\nв зависимости от времени суток', fontsize='large')\n",
    "\n",
    "plt.subplot(2, 2, 4)\n",
    "plt.bar(df4['time'], df4['comments'], color='#92000a')\n",
    "plt.title('Количество комментариев на 1 пост\\nв зависимости от времени суток', fontsize='large')\n",
    "\n",
    "plt.subplots_adjust(hspace=0.4)\n",
    "plt.show()"
   ]
  },
  {
   "cell_type": "code",
   "execution_count": 30,
   "metadata": {
    "id": "qEvkBbGjTeBE",
    "outputId": "8cd7f310-9c78-43f8-a9a8-0249bb07bfc6"
   },
   "outputs": [
    {
     "name": "stderr",
     "output_type": "stream",
     "text": [
      "<ipython-input-30-fee3c9a5ed0d>:1: FutureWarning: Indexing with multiple keys (implicitly converted to a tuple of keys) will be deprecated, use a list instead.\n",
      "  df4 = df.groupby(['time'])['views', 'likes', 'reposts'].\\\n"
     ]
    },
    {
     "data": {
      "image/png": "[encoded data removed]",
      "text/plain": [
       "<Figure size 1152x216 with 2 Axes>"
      ]
     },
     "metadata": {
      "needs_background": "light"
     },
     "output_type": "display_data"
    }
   ],
   "source": [
    "df4 = df.groupby(['time'])['views', 'likes', 'reposts'].\\\n",
    "    agg({ 'views':'sum', 'likes':'sum', 'reposts':'sum' }).reset_index()\n",
    "\n",
    "df4['reposts'] = df4['reposts'] / df4['likes'] * 100\n",
    "df4['likes'] = df4['likes'] / df4['views'] * 100\n",
    "\n",
    "fig = plt.figure(figsize=(16, 3))\n",
    "\n",
    "plt.subplot(1, 2, 1)\n",
    "plt.bar(df4['time'], df4['likes'], color='#92000a')\n",
    "plt.title('Конверсия просмотров в лайки по дням месяца, в %', fontsize='large')\n",
    "plt.xticks(rotation=90)\n",
    "\n",
    "plt.subplot(1, 2, 2)\n",
    "plt.bar(df4['time'], df4['reposts'], color='#92000a')\n",
    "plt.title('Конверсия лайков в репосты по дням месяца, в %', fontsize='large')\n",
    "plt.xticks(rotation=90)\n",
    "\n",
    "plt.subplots_adjust(hspace=0.4)\n",
    "plt.show()"
   ]
  },
  {
   "cell_type": "markdown",
   "metadata": {
    "id": "vE1ri7yLTeBF"
   },
   "source": [
    "Наибольшая часть постов выкладывается либо в обед, либо ближе к концу рабочего дня. Наибольшей популярностью у пользователй пользуются посты, выложенные в обед."
   ]
  },
  {
   "cell_type": "markdown",
   "metadata": {
    "id": "qRRnwlO4TeBF"
   },
   "source": [
    "### 5. Показатели активности по рубрикам"
   ]
  },
  {
   "cell_type": "code",
   "execution_count": 31,
   "metadata": {},
   "outputs": [
    {
     "data": {
      "text/plain": [
       "['#,',\n",
       " '#.\\n\\n#Статья_Skillbox',\n",
       " '#3D_графика_Skillbox',\n",
       " '#?',\n",
       " '#AIC_Skillbox',\n",
       " '#Avocard:',\n",
       " '#CG_Skillbox',\n",
       " '#Cовет_препода_Skillbox',\n",
       " '#Design_Battle_Skillbox',\n",
       " '#Dominos_Skillbox',\n",
       " '#FF4500)\\nСмелый',\n",
       " '#HR_Совет_Skillbox',\n",
       " '#HR_совет_Skillbox',\n",
       " '#IMDb,',\n",
       " '#Mail_Design_Cup',\n",
       " '#OFFF_Moscow',\n",
       " '#PMIMoscow_Skillbox',\n",
       " '#Pixels_Fest',\n",
       " '#Russian_Creativity_Week',\n",
       " '#Russian_creative_week',\n",
       " '#SMDay',\n",
       " '#Skillbox',\n",
       " '#Skillbox_Дизайн',\n",
       " '#Skillbox_Маркетинг',\n",
       " '#Skillbox_Мркетинг',\n",
       " '#Skillbox_Программирование',\n",
       " '#Skillbox_РАНХиГС',\n",
       " '#Skillbox_Симпсоны',\n",
       " '#Skillbox_Сострадамус',\n",
       " '#Skillbox_Управление',\n",
       " '#Skillbox_в_закладки',\n",
       " '#Skillbox_вдохновляет',\n",
       " '#Skillbox_вопросы',\n",
       " '#Skillbox_геймдизайн',\n",
       " '#Skillbox_дизайн',\n",
       " '#Skillbox_игра',\n",
       " '#Skillbox_кейс',\n",
       " '#Skillbox_конкурс',\n",
       " '#Skillbox_маркетинг',\n",
       " '#Skillbox_программирование',\n",
       " '#Skillbox_управление',\n",
       " '#Skillboxвдохновляет',\n",
       " '#Skillboxподкаст',\n",
       " '#designworkout',\n",
       " '#skillbox_дизайн',\n",
       " '#skillbox_тренды',\n",
       " '#skillboxontv',\n",
       " '#still_life?\\n\\nПонадобятся',\n",
       " '#vktalents_bomman',\n",
       " '#Айдентик_Skillbox',\n",
       " '#Айдентика_Skillbox',\n",
       " '#Альпина_Skillbox',\n",
       " '#Анимация_Skillbox',\n",
       " '#Анонс_Skillbox',\n",
       " '#Анонс_курса',\n",
       " '#Анонс_курса_Skillbox',\n",
       " '#В_Закладки_Skillbox',\n",
       " '#В_Закладки_skillbox',\n",
       " '#В_закладки_Skillbox',\n",
       " '#В_закладки_Skllbox',\n",
       " '#Вам_слово_Skillbox',\n",
       " '#Взакладки_Skillbox',\n",
       " '#Гороскоп_Skillbox',\n",
       " '#Грант_Skilbox',\n",
       " '#День_капслока',\n",
       " '#День_космонавтики',\n",
       " '#День_маркетолога',\n",
       " '#День_учителя',\n",
       " '#ДеньБезИнтернета.\\nНо',\n",
       " '#ДеньКомпьютернойГрафики!',\n",
       " '#ДеньНаблюденияЗаОблаками',\n",
       " '#ДеньПрогульщика',\n",
       " '#ДеньШвеции',\n",
       " '#Деньанимации',\n",
       " '#Дизайн_баттл',\n",
       " '#Дизайн_интерьера_Skillbox',\n",
       " '#Дизайн_упаковки_Skillbox',\n",
       " '#Доброшрифт',\n",
       " '#Задачка_Skillbox',\n",
       " '#Защита_данных',\n",
       " '#Игра_Skillbox',\n",
       " '#Иллюстрации',\n",
       " '#Иллюстрация_Skillbox',\n",
       " '#Кант_поймет',\n",
       " '#Качаем_креатив',\n",
       " '#Кейс_Skillbox',\n",
       " '#Кино_Skillbox',\n",
       " '#Конкурс',\n",
       " '#Конкурс_Skillbox',\n",
       " '#Курс_Skillbox',\n",
       " '#Курсы_Skillbox',\n",
       " '#Лекторий',\n",
       " '#Лекторий_Skillbox',\n",
       " '#Лекторий_Евро',\n",
       " '#МИФ',\n",
       " '#Марафон_Skillbox',\n",
       " '#Моушен_Skillbox',\n",
       " '#МоушнSkillbox',\n",
       " '#Моушн_Skillbox',\n",
       " '#МыВместе,',\n",
       " '#Новости_Skillbox',\n",
       " '#Партнерская_программа_Skillbox',\n",
       " '#Плакаты_Skillbox',\n",
       " '#Подборка_курсов_Skillbox',\n",
       " '#Правки_Skillbox',\n",
       " '#Программа_лояльности_Skillbox',\n",
       " '#Программирование_Skillbox',\n",
       " '#Проще_говоря_Skillbox',\n",
       " '#Работа_студента_Skillbox',\n",
       " '#Разработчики_шутят',\n",
       " '#Расписание_Skillbox',\n",
       " '#Скидки_Skillbox',\n",
       " '#Сленг_программиста_Sillbox',\n",
       " '#Совет_препода_Skillbox',\n",
       " '#Советпрепода_Skillbox',\n",
       " '#Стата_Skillbox',\n",
       " '#Статья_Skillbox',\n",
       " '#Студенты_Skillbox',\n",
       " '#Тренды_Skillbox',\n",
       " '#Тренировка_Skillbox',\n",
       " '#Упаковка_Skillbox',\n",
       " '#Управление_Skillbox',\n",
       " '#Уроки_Фотошопа_Skillbox',\n",
       " '#Уроки_фотошопа_Skillbox',\n",
       " '#Учим_HTML',\n",
       " '#Фотография_Skillbox',\n",
       " '#Хэллоуин_Skillbox',\n",
       " '#Чак_Skillbox',\n",
       " '#Черная_пятница_Skillbox',\n",
       " '#Школа_будущего',\n",
       " '#Шрифты_Skillbox',\n",
       " '#анонс_skillbox',\n",
       " '#в_закладки_skillbox',\n",
       " '#день_бэкапа,',\n",
       " '#дизайн_упаковки_Skillbox',\n",
       " '#качаем_креатив',\n",
       " '#кейсSkillbox',\n",
       " '#новости_Skillbox',\n",
       " '#проэтолето\\n',\n",
       " '#статья_skillbox']"
      ]
     },
     "execution_count": 31,
     "metadata": {},
     "output_type": "execute_result"
    }
   ],
   "source": [
    "# Пробежимся по всем записям датафрейма и оставим список уникальных хэштегов\n",
    "list_of_tag = []\n",
    "for str in df['text']:\n",
    "    i = str.find('#')\n",
    "    while i > 0:\n",
    "        j = max( 0, str[i:].find(' ') )\n",
    "        if j > 0:\n",
    "            if str[i:i+j] not in list_of_tag:\n",
    "                list_of_tag.append(str[i:i+j])\n",
    "        else:\n",
    "            if str[i:] not in list_of_tag:\n",
    "                list_of_tag.append(str[i:])\n",
    "        str = str[i:]\n",
    "        i = str.find('#')\n",
    "    \n",
    "list_of_tag.sort()\n",
    "list_of_tag"
   ]
  },
  {
   "cell_type": "markdown",
   "metadata": {},
   "source": [
    "Даже при беглом просмотре этого списка видно, насколько невнимательно работают редакторы Паблика, допуская ошибки в написании хэштегов. Из-за этих ошибок возникает дублирование, что затрудняет поиск нужных записей. А также исказит результаты последующего анализа.<br>\n",
    "Пример: <br>\n",
    "'#HR_Совет_Skillbox' и '#HR_совет_Skillbox' - слово 'Совет' написано в одном случае с заглавной буквы, в другом со строчной.<br>\n",
    "'#Skillbox_Мркетинг', #В_закладки_Skllbox', '#Взакладки_Skillbox' - орфографическая ошибка"
   ]
  },
  {
   "cell_type": "markdown",
   "metadata": {},
   "source": [
    "Проанализируем показатели активности по хэштегам, соответствующим четырем направлениям обучения в SkillBox"
   ]
  },
  {
   "cell_type": "code",
   "execution_count": 32,
   "metadata": {},
   "outputs": [],
   "source": [
    "# Добавляем рубрику, анализируя поле 'text'\n",
    "df['section'] = df['text'].apply( lambda x: 'Управление' if '#Skillbox_управление' in x else \\\n",
    "                                'Дизайн' if '#Skillbox_Дизайн' in x else \\\n",
    "                                'Маркетинг' if '#Skillbox_Маркетинг' in x else \\\n",
    "                                'Программирование' if '#Skillbox_программирование' in x else 'Прочее' )"
   ]
  },
  {
   "cell_type": "code",
   "execution_count": 33,
   "metadata": {
    "id": "Z0zsxghXTeBF",
    "outputId": "fc5db621-3c65-41e3-d089-2c75038a1f93"
   },
   "outputs": [
    {
     "name": "stderr",
     "output_type": "stream",
     "text": [
      "<ipython-input-33-c5fb862fd5a0>:1: FutureWarning: Indexing with multiple keys (implicitly converted to a tuple of keys) will be deprecated, use a list instead.\n",
      "  df5 = df.groupby(['section'])['id', 'views', 'likes', 'reposts', 'comments'].\\\n"
     ]
    }
   ],
   "source": [
    "df5 = df.groupby(['section'])['id', 'views', 'likes', 'reposts', 'comments'].\\\n",
    "    agg({ 'id':'count', 'views':'sum', 'likes':'sum', 'reposts':'sum', 'comments':'sum' }).reset_index()\n",
    "\n",
    "df5 = df5[ df5['section'] != 'Прочее']"
   ]
  },
  {
   "cell_type": "code",
   "execution_count": 34,
   "metadata": {
    "id": "6rxaK7lHTeBG",
    "outputId": "5caea385-a27f-40c8-fc3f-beddbf09245e"
   },
   "outputs": [
    {
     "data": {
      "image/png": "[encoded data removed]",
      "text/plain": [
       "<Figure size 1152x432 with 2 Axes>"
      ]
     },
     "metadata": {
      "needs_background": "light"
     },
     "output_type": "display_data"
    }
   ],
   "source": [
    "plt.figure(figsize=(16, 6))\n",
    "\n",
    "plt.subplot(1, 2, 1)\n",
    "plt.bar(df5['section'], df5['id'], color='#029386')\n",
    "plt.title('Количество постов по рубрикам', fontsize='large')\n",
    "\n",
    "plt.subplot(1, 2, 2)\n",
    "plt.pie(df5['id'], labels=df5['section'], autopct='%1.1f%%')\n",
    "plt.title('Рапределение постов по рубрикам', fontsize='large')\n",
    "\n",
    "plt.show()"
   ]
  },
  {
   "cell_type": "code",
   "execution_count": 35,
   "metadata": {
    "id": "-a9DxDn3TeBG"
   },
   "outputs": [],
   "source": [
    "# Лайки, просмотры и репосты на 1 пост\n",
    "df5['views'] = df5['views'] / df5['id']\n",
    "df5['likes'] = df5['likes'] / df5['id']\n",
    "df5['reposts'] = df5['reposts'] / df5['id']\n",
    "df5['comments'] = df5['comments'] / df5['id']"
   ]
  },
  {
   "cell_type": "code",
   "execution_count": 36,
   "metadata": {
    "id": "_xVhzsIYTeBG",
    "outputId": "ba429c13-a0ed-4037-c3c0-ec49f82d3bf4"
   },
   "outputs": [
    {
     "data": {
      "image/png": "[encoded data removed]",
      "text/plain": [
       "<Figure size 1152x576 with 4 Axes>"
      ]
     },
     "metadata": {
      "needs_background": "light"
     },
     "output_type": "display_data"
    }
   ],
   "source": [
    "fig = plt.figure(figsize=(16, 8))\n",
    "\n",
    "plt.subplot(2, 2, 1)\n",
    "plt.bar(df5['section'], df5['views'], color='#029386')\n",
    "plt.title('Количество просмотров на 1 пост', fontsize='large')\n",
    "\n",
    "plt.subplot(2, 2, 2)\n",
    "plt.bar(df5['section'], df5['likes'], color='#029386')\n",
    "plt.title('Количество лайков на 1 пост', fontsize='large')\n",
    "\n",
    "plt.subplot(2, 2, 3)\n",
    "plt.bar(df5['section'], df5['reposts'], color='#029386')\n",
    "plt.title('Количество репостов на 1 пост', fontsize='large')\n",
    "\n",
    "plt.subplot(2, 2, 4)\n",
    "plt.bar(df5['section'], df5['comments'], color='#029386' )\n",
    "plt.title('Количество комментариев на 1 пост', fontsize='large')\n",
    "\n",
    "plt.subplots_adjust(hspace=0.4)\n",
    "plt.show()"
   ]
  },
  {
   "cell_type": "markdown",
   "metadata": {
    "id": "-Y0jndB_TeBH"
   },
   "source": [
    "Наибольшее количество постов отведено напралению обучения \"Программирование\". Однако количество просмотров на 1 пост примерно одинаково по всем направлениям. Лайкают и репостят чаще по хэштегу \"Управление\", комметнтируют по хэштегу \"Программирование\"."
   ]
  },
  {
   "cell_type": "markdown",
   "metadata": {
    "id": "4GPLfxZeTeBH"
   },
   "source": [
    "### 6. Зависимость показателей активности друг от друга"
   ]
  },
  {
   "cell_type": "code",
   "execution_count": 37,
   "metadata": {
    "id": "SOOEnDq4TeBH",
    "outputId": "3fb3ac27-66e4-4711-e13d-aa07f87531cd"
   },
   "outputs": [
    {
     "name": "stdout",
     "output_type": "stream",
     "text": [
      "Корреляция между:\n",
      "  Просмотрами и лайками       : 0.7781902860854188\n",
      "  Просмотрами и репостами     : 0.6432156178239722\n",
      "  Просмотрами и комментариями : 0.33872114075937537\n",
      "  Репостами и лайками         : 0.8665250558745541\n",
      "  Репостами и комментариями   : 0.27985080970404147\n",
      "  Комменатриями и лайками     : 0.3174898615358999\n"
     ]
    }
   ],
   "source": [
    "print('Корреляция между:')\n",
    "print('  Просмотрами и лайками       :', np.corrcoef(df['views'], df['likes'])[0][1])\n",
    "print('  Просмотрами и репостами     :', np.corrcoef(df['views'], df['reposts'])[0][1])\n",
    "print('  Просмотрами и комментариями :', np.corrcoef(df['views'], df['comments'])[0][1])\n",
    "print('  Репостами и лайками         :', np.corrcoef(df['reposts'], df['likes'])[0][1])\n",
    "print('  Репостами и комментариями   :', np.corrcoef(df['reposts'], df['comments'])[0][1])\n",
    "print('  Комменатриями и лайками     :', np.corrcoef(df['comments'], df['likes'])[0][1])"
   ]
  },
  {
   "cell_type": "code",
   "execution_count": 38,
   "metadata": {
    "id": "GmgSjCLSTeBH",
    "outputId": "4d3ff608-eb6b-4775-864e-09676cba4707"
   },
   "outputs": [
    {
     "name": "stdout",
     "output_type": "stream",
     "text": [
      "0.4320445059922402\n",
      "0.04582602660211155\n",
      "0.054553526515302195\n",
      "10.60678378419991\n",
      "12.626830282221436\n",
      "84.00195098158761\n"
     ]
    }
   ],
   "source": [
    "print(df['likes'].sum() / df['views'].sum() * 100 )\n",
    "print(df['reposts'].sum() / df['views'].sum() * 100 )\n",
    "print(df['comments'].sum() / df['views'].sum() * 100 )\n",
    "print(df['reposts'].sum() / df['likes'].sum() * 100 )\n",
    "print(df['comments'].sum() / df['likes'].sum() * 100 )\n",
    "print(df['reposts'].sum() / df['comments'].sum() * 100 )"
   ]
  },
  {
   "cell_type": "markdown",
   "metadata": {
    "id": "PN_zVPEGTeBI"
   },
   "source": [
    "Очень высокая степень корреляции между репостами и лайками. \n",
    "В среднем же 12.6% лайкнувших запись напишет комментарий, 10.6% её репостнет. 84% прокомментировавших запись сделает репост."
   ]
  },
  {
   "cell_type": "markdown",
   "metadata": {
    "id": "Jto8xZ74TeBI"
   },
   "source": [
    "### 7. Изменение показателей активности за год. Сравниваем октябрь 2019г. и октябрь 2020г."
   ]
  },
  {
   "cell_type": "code",
   "execution_count": 39,
   "metadata": {
    "id": "AxpU40FETeBI",
    "outputId": "ad627e9c-c975-4729-855b-f5b6b33ded41"
   },
   "outputs": [
    {
     "name": "stderr",
     "output_type": "stream",
     "text": [
      "<ipython-input-39-00958ba693b4>:4: FutureWarning: Indexing with multiple keys (implicitly converted to a tuple of keys) will be deprecated, use a list instead.\n",
      "  df7_2019 = df7_2019.groupby(['y_m', 'day'])['id', 'views', 'likes', 'reposts', 'comments'].\\\n",
      "<ipython-input-39-00958ba693b4>:10: FutureWarning: Indexing with multiple keys (implicitly converted to a tuple of keys) will be deprecated, use a list instead.\n",
      "  df7_2020 = df7_2020.groupby(['y_m', 'day'])['id', 'views', 'likes', 'reposts', 'comments'].\\\n"
     ]
    }
   ],
   "source": [
    "df_small['y_m'] = df_small['date'].apply( lambda x: x[:4])\n",
    "\n",
    "df7_2019 = df_small[ df_small['y_m'] == '2019' ]\n",
    "df7_2019 = df7_2019.groupby(['y_m', 'day'])['id', 'views', 'likes', 'reposts', 'comments'].\\\n",
    "    agg({ 'id':'count', 'views':'sum', 'likes':'sum', 'reposts':'sum', 'comments':'sum' }).reset_index()\n",
    "df7_2019.loc[30] = ['2019', '20', 0, 0, 0, 0, 0]\n",
    "df7_2019.sort_values(by=['day'], inplace=True)\n",
    "\n",
    "df7_2020 = df_small[ df_small['y_m'] == '2020' ]\n",
    "df7_2020 = df7_2020.groupby(['y_m', 'day'])['id', 'views', 'likes', 'reposts', 'comments'].\\\n",
    "    agg({ 'id':'count', 'views':'sum', 'likes':'sum', 'reposts':'sum', 'comments':'sum' }).reset_index()"
   ]
  },
  {
   "cell_type": "code",
   "execution_count": 40,
   "metadata": {
    "id": "Qzvc9SKnTeBJ",
    "outputId": "d8a41eba-a7ef-4b38-d048-47b4f31905db"
   },
   "outputs": [
    {
     "data": {
      "image/png": "[encoded data removed]",
      "text/plain": [
       "<Figure size 1152x360 with 1 Axes>"
      ]
     },
     "metadata": {
      "needs_background": "light"
     },
     "output_type": "display_data"
    },
    {
     "name": "stdout",
     "output_type": "stream",
     "text": [
      "Увеличение количества просмотров за год:  2.2\n"
     ]
    }
   ],
   "source": [
    "plt.figure(figsize=(16, 5))\n",
    "x = np.arange(1, 32)\n",
    "plt.bar(x-0.2, df7_2019['views'], 0.4, color='#029386')\n",
    "plt.bar(x+0.2, df7_2020['views'], 0.4, color='purple')\n",
    "plt.xticks(list(range(1, 32)))\n",
    "\n",
    "plt.axhline(y=df7_2019['views'].mean(), color='#029386', alpha=0.5)\n",
    "plt.axhline(y=df7_2020['views'].mean(), color='purple', alpha=0.5)\n",
    "\n",
    "plt.legend(['среднедневное 2019', 'среднедневное 2020', '2019', '2020'])\n",
    "plt.title('Количество просмотров по дням в октябре', fontsize='large')\n",
    "\n",
    "plt.show()\n",
    "\n",
    "print('Увеличение количества просмотров за год: ', round(df7_2020['views'].sum() / df7_2019['views'].sum(), 1))"
   ]
  },
  {
   "cell_type": "code",
   "execution_count": 41,
   "metadata": {
    "id": "WCnk6oEPTeBJ",
    "outputId": "8fd4beaa-9193-44ad-ce20-2737a6768fd5"
   },
   "outputs": [
    {
     "data": {
      "image/png": "[encoded data removed]",
      "text/plain": [
       "<Figure size 1152x360 with 1 Axes>"
      ]
     },
     "metadata": {
      "needs_background": "light"
     },
     "output_type": "display_data"
    },
    {
     "name": "stdout",
     "output_type": "stream",
     "text": [
      "Увеличение количества лайков за год:  1.6\n"
     ]
    }
   ],
   "source": [
    "plt.figure(figsize=(16, 5))\n",
    "x = np.arange(1, 32)\n",
    "plt.bar(x-0.2, df7_2019['likes'], 0.4, color='#029386')\n",
    "plt.bar(x+0.2, df7_2020['likes'], 0.4, color='purple')\n",
    "plt.xticks(list(range(1, 32)))\n",
    "\n",
    "plt.axhline(y=df7_2019['likes'].mean(), color='#029386', alpha=0.5)\n",
    "plt.axhline(y=df7_2020['likes'].mean(), color='purple', alpha=0.5)\n",
    "\n",
    "plt.legend(['среднедневное 2019', 'среднедневное 2020', '2019', '2020'])\n",
    "plt.title('Количество лайков по дням в октябре', fontsize='large')\n",
    "\n",
    "plt.show()\n",
    "\n",
    "print('Увеличение количества лайков за год: ', round(df7_2020['likes'].sum() / df7_2019['likes'].sum(), 1))"
   ]
  },
  {
   "cell_type": "markdown",
   "metadata": {
    "id": "aAjDfu9oMdqW"
   },
   "source": [
    "За год резко, в 2.2 раза выросло количество просмотров, в 1.6 раза выросло количество пользователей, лайкнувших записи Паблика."
   ]
  },
  {
   "cell_type": "markdown",
   "metadata": {
    "id": "gfFK7qVSNUT3"
   },
   "source": [
    "### 8. Резюме"
   ]
  },
  {
   "cell_type": "markdown",
   "metadata": {
    "id": "th49vMOjNX7g"
   },
   "source": [
    "За прошедший год почти в два раза выросла активность посетителей Паблика SkillBox в \"В Контакте\". Из причин можно выделить пандемию коронавируса, подогревшей интерес к онлайн-обучению. У части людей на карантине появилось свободное время, которое было решено потратить на обучение. Другая часть была вынуждена начать обучение новой профессии по причине увольнения. В этой связи можно особенно выделить май 2020."
   ]
  },
  {
   "cell_type": "code",
   "execution_count": null,
   "metadata": {
    "id": "DarQv9XjTeBJ"
   },
   "outputs": [],
   "source": []
  }
 ],
 "metadata": {
  "colab": {
   "collapsed_sections": [],
   "name": "Курсовая_работа_2-2_v1.ipynb",
   "provenance": []
  },
  "kernelspec": {
   "display_name": "Python 3",
   "language": "python",
   "name": "python3"
  },
  "language_info": {
   "codemirror_mode": {
    "name": "ipython",
    "version": 3
   },
   "file_extension": ".py",
   "mimetype": "text/x-python",
   "name": "python",
   "nbconvert_exporter": "python",
   "pygments_lexer": "ipython3",
   "version": "3.8.3"
  }
 },
 "nbformat": 4,
 "nbformat_minor": 1
}
